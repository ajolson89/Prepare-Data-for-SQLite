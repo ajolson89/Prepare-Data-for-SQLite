{
 "cells": [
  {
   "cell_type": "markdown",
   "metadata": {},
   "source": [
    "# Clean CSV File and Add to SQLite Database"
   ]
  },
  {
   "cell_type": "code",
   "execution_count": 7,
   "metadata": {
    "collapsed": false
   },
   "outputs": [
    {
     "name": "stdout",
     "output_type": "stream",
     "text": [
      "<bound method DataFrame.head of       Year                    Category               Nominee  \\\n",
      "0     2010       Actor -- Leading Role         Javier Bardem   \n",
      "1     2010       Actor -- Leading Role          Jeff Bridges   \n",
      "2     2010       Actor -- Leading Role       Jesse Eisenberg   \n",
      "3     2010       Actor -- Leading Role           Colin Firth   \n",
      "4     2010       Actor -- Leading Role          James Franco   \n",
      "5     2010    Actor -- Supporting Role        Christian Bale   \n",
      "6     2010    Actor -- Supporting Role           John Hawkes   \n",
      "7     2010    Actor -- Supporting Role         Jeremy Renner   \n",
      "8     2010    Actor -- Supporting Role          Mark Ruffalo   \n",
      "9     2010    Actor -- Supporting Role         Geoffrey Rush   \n",
      "10    2010     Actress -- Leading Role        Annette Bening   \n",
      "11    2010     Actress -- Leading Role         Nicole Kidman   \n",
      "12    2010     Actress -- Leading Role     Jennifer Lawrence   \n",
      "13    2010     Actress -- Leading Role       Natalie Portman   \n",
      "14    2010     Actress -- Leading Role     Michelle Williams   \n",
      "15    2010  Actress -- Supporting Role             Amy Adams   \n",
      "16    2010  Actress -- Supporting Role  Helena Bonham Carter   \n",
      "17    2010  Actress -- Supporting Role           Melissa Leo   \n",
      "18    2010  Actress -- Supporting Role      Hailee Steinfeld   \n",
      "19    2010  Actress -- Supporting Role          Jacki Weaver   \n",
      "135   2009       Actor -- Leading Role          Jeff Bridges   \n",
      "136   2009       Actor -- Leading Role        George Clooney   \n",
      "137   2009       Actor -- Leading Role           Colin Firth   \n",
      "138   2009       Actor -- Leading Role        Morgan Freeman   \n",
      "139   2009       Actor -- Leading Role         Jeremy Renner   \n",
      "140   2009    Actor -- Supporting Role            Matt Damon   \n",
      "141   2009    Actor -- Supporting Role       Woody Harrelson   \n",
      "142   2009    Actor -- Supporting Role   Christopher Plummer   \n",
      "143   2009    Actor -- Supporting Role         Stanley Tucci   \n",
      "144   2009    Actor -- Supporting Role       Christoph Waltz   \n",
      "...    ...                         ...                   ...   \n",
      "1040  2002     Actress -- Leading Role           Salma Hayek   \n",
      "1041  2002     Actress -- Leading Role         Nicole Kidman   \n",
      "1042  2002     Actress -- Leading Role            Diane Lane   \n",
      "1043  2002     Actress -- Leading Role        Julianne Moore   \n",
      "1044  2002     Actress -- Leading Role       Renée Zellweger   \n",
      "1045  2002  Actress -- Supporting Role           Kathy Bates   \n",
      "1046  2002  Actress -- Supporting Role        Julianne Moore   \n",
      "1047  2002  Actress -- Supporting Role         Queen Latifah   \n",
      "1048  2002  Actress -- Supporting Role          Meryl Streep   \n",
      "1049  2002  Actress -- Supporting Role  Catherine Zeta-Jones   \n",
      "1157  2001       Actor -- Leading Role         Russell Crowe   \n",
      "1158  2001       Actor -- Leading Role             Sean Penn   \n",
      "1159  2001       Actor -- Leading Role            Will Smith   \n",
      "1160  2001       Actor -- Leading Role     Denzel Washington   \n",
      "1161  2001       Actor -- Leading Role         Tom Wilkinson   \n",
      "1162  2001    Actor -- Supporting Role         Jim Broadbent   \n",
      "1163  2001    Actor -- Supporting Role           Ethan Hawke   \n",
      "1164  2001    Actor -- Supporting Role          Ben Kingsley   \n",
      "1165  2001    Actor -- Supporting Role          Ian McKellen   \n",
      "1166  2001    Actor -- Supporting Role            Jon Voight   \n",
      "1167  2001     Actress -- Leading Role           Halle Berry   \n",
      "1168  2001     Actress -- Leading Role            Judi Dench   \n",
      "1169  2001     Actress -- Leading Role         Nicole Kidman   \n",
      "1170  2001     Actress -- Leading Role          Sissy Spacek   \n",
      "1171  2001     Actress -- Leading Role       Renée Zellweger   \n",
      "1172  2001  Actress -- Supporting Role     Jennifer Connelly   \n",
      "1173  2001  Actress -- Supporting Role          Helen Mirren   \n",
      "1174  2001  Actress -- Supporting Role          Maggie Smith   \n",
      "1175  2001  Actress -- Supporting Role          Marisa Tomei   \n",
      "1176  2001  Actress -- Supporting Role          Kate Winslet   \n",
      "\n",
      "                                        Additional Info  Won  \n",
      "0                                    Biutiful {'Uxbal'}    0  \n",
      "1                         True Grit {'Rooster Cogburn'}    0  \n",
      "2                The Social Network {'Mark Zuckerberg'}    0  \n",
      "3                  The King's Speech {'King George VI'}    1  \n",
      "4                            127 Hours {'Aron Ralston'}    0  \n",
      "5                          The Fighter {'Dicky Eklund'}    1  \n",
      "6                            Winter's Bone {'Teardrop'}    0  \n",
      "7                           The Town {'James Coughlin'}    0  \n",
      "8                       The Kids Are All Right {'Paul'}    0  \n",
      "9                    The King's Speech {'Lionel Logue'}    0  \n",
      "10                       The Kids Are All Right {'Nic'}    0  \n",
      "11                                Rabbit Hole {'Becca'}    0  \n",
      "12                                Winter's Bone {'Ree'}    0  \n",
      "13            Black Swan {'Nina Sayers/The Swan Queen'}    1  \n",
      "14                             Blue Valentine {'Cindy'}    0  \n",
      "15                     The Fighter {'Charlene Fleming'}    0  \n",
      "16                The King's Speech {'Queen Elizabeth'}    0  \n",
      "17                           The Fighter {'Alice Ward'}    1  \n",
      "18                            True Grit {'Mattie Ross'}    0  \n",
      "19               Animal Kingdom {'Janine 'Smurf' Cody'}    0  \n",
      "135                           Crazy Heart {'Bad Blake'}    1  \n",
      "136                      Up in the Air {'Ryan Bingham'}    0  \n",
      "137                             A Single Man {'George'}    0  \n",
      "138                         Invictus {'Nelson Mandela'}    0  \n",
      "139    The Hurt Locker {'Staff Sergeant William James'}    0  \n",
      "140                       Invictus {'Francois Pienaar'}    0  \n",
      "141                The Messenger {'Captain Tony Stone'}    0  \n",
      "142                        The Last Station {'Tolstoy'}    0  \n",
      "143                  The Lovely Bones {'George Harvey'}    0  \n",
      "144            Inglourious Basterds {'Col. Hans Landa'}    1  \n",
      "...                                                 ...  ...  \n",
      "1040                              Frida {'Frida Kahlo'}    0  \n",
      "1041                       The Hours {'Virginia Woolf'}    1  \n",
      "1042                       Unfaithful {'Connie Sumner'}    0  \n",
      "1043                 Far from Heaven {'Cathy Whitaker'}    0  \n",
      "1044                             Chicago {'Roxie Hart'}    0  \n",
      "1045                  About Schmidt {'Roberta Hertzel'}    0  \n",
      "1046                          The Hours {'Laura Brown'}    0  \n",
      "1047                     Chicago {'Matron Mama Morton'}    0  \n",
      "1048                        Adaptation {'Susan Orlean'}    0  \n",
      "1049                            Chicago {'Velma Kelly'}    1  \n",
      "1157                     A Beautiful Mind {'John Nash'}    0  \n",
      "1158                            I Am Sam {'Sam Dawson'}    0  \n",
      "1159                               Ali {'Muhammad Ali'}    0  \n",
      "1160                            Training Day {'Alonzo'}    1  \n",
      "1161                     In the Bedroom {'Matt Fowler'}    0  \n",
      "1162                               Iris {'John Bayley'}    1  \n",
      "1163                              Training Day {'Jake'}    0  \n",
      "1164                           Sexy Beast {'Don Logan'}    0  \n",
      "1165  The Lord of the Rings: The Fellowship of the R...    0  \n",
      "1166                              Ali {'Howard Cosell'}    0  \n",
      "1167                Monster's Ball {'Leticia Musgrove'}    1  \n",
      "1168                              Iris {'Iris Murdoch'}    0  \n",
      "1169                            Moulin Rouge {'Satine'}    0  \n",
      "1170                     In the Bedroom {'Ruth Fowler'}    0  \n",
      "1171            Bridget Jones's Diary {'Bridget Jones'}    0  \n",
      "1172                   A Beautiful Mind {'Alicia Nash'}    1  \n",
      "1173                       Gosford Park {'Mrs. Wilson'}    0  \n",
      "1174   Gosford Park {'Constance, Countess of Trentham'}    0  \n",
      "1175                  In the Bedroom {'Natalie Strout'}    0  \n",
      "1176                        Iris {'Young Iris Murdoch'}    0  \n",
      "\n",
      "[200 rows x 5 columns]>\n"
     ]
    },
    {
     "name": "stderr",
     "output_type": "stream",
     "text": [
      "D:\\Anaconda2\\lib\\site-packages\\ipykernel\\__main__.py:11: SettingWithCopyWarning: \n",
      "A value is trying to be set on a copy of a slice from a DataFrame.\n",
      "Try using .loc[row_indexer,col_indexer] = value instead\n",
      "\n",
      "See the caveats in the documentation: http://pandas.pydata.org/pandas-docs/stable/indexing.html#indexing-view-versus-copy\n",
      "D:\\Anaconda2\\lib\\site-packages\\ipykernel\\__main__.py:12: SettingWithCopyWarning: \n",
      "A value is trying to be set on a copy of a slice from a DataFrame.\n",
      "Try using .loc[row_indexer,col_indexer] = value instead\n",
      "\n",
      "See the caveats in the documentation: http://pandas.pydata.org/pandas-docs/stable/indexing.html#indexing-view-versus-copy\n"
     ]
    }
   ],
   "source": [
    "import pandas as pd\n",
    "df = pd.read_csv(\"academy_awards.csv\", encoding=\"ISO-8859-1\")\n",
    "\n",
    "df[\"Year\"] = df[\"Year\"].str[0:4]\n",
    "df[\"Year\"] = df[\"Year\"].astype(\"int64\")\n",
    "later_than_2000 = df[df[\"Year\"] > 2000]\n",
    "award_categories = [\"Actor -- Leading Role\",\"Actor -- Supporting Role\", \"Actress -- Leading Role\", \"Actress -- Supporting Role\"]\n",
    "nominations = later_than_2000[later_than_2000[\"Category\"].isin(award_categories)]\n",
    "\n",
    "replacements = { \"NO\": 0, \"YES\": 1 }\n",
    "nominations[\"Won?\"] = nominations[\"Won?\"].map(replacements)\n",
    "nominations[\"Won\"] = nominations[\"Won?\"]\n",
    "drop_cols = [\"Won?\",\"Unnamed: 5\", \"Unnamed: 6\",\"Unnamed: 7\", \"Unnamed: 8\", \"Unnamed: 9\", \"Unnamed: 10\"]\n",
    "final_nominations = nominations.drop(drop_cols, axis=1)\n",
    "\n",
    "print(final_nominations.head)"
   ]
  },
  {
   "cell_type": "code",
   "execution_count": 8,
   "metadata": {
    "collapsed": false
   },
   "outputs": [],
   "source": [
    "additional_info_one = final_nominations['Additional Info'].str.rstrip(\"'}\")\n",
    "additional_info_two = additional_info_one.str.split(\"{'\")\n",
    "movie_names = additional_info_two.str[0]\n",
    "characters = additional_info_two.str[1]\n",
    "final_nominations['Movie'] = movie_names\n",
    "final_nominations['Character'] = characters\n",
    "final_nominations = final_nominations.drop('Additional Info', axis=1)"
   ]
  },
  {
   "cell_type": "code",
   "execution_count": 9,
   "metadata": {
    "collapsed": false
   },
   "outputs": [],
   "source": [
    "import sqlite3\n",
    "conn = sqlite3.connect('nominations.db')\n",
    "final_nominations.to_sql(\"nomination\", conn, index=False)"
   ]
  },
  {
   "cell_type": "code",
   "execution_count": 10,
   "metadata": {
    "collapsed": false
   },
   "outputs": [
    {
     "name": "stdout",
     "output_type": "stream",
     "text": [
      "[(0, u'Year', u'INTEGER', 0, None, 0), (1, u'Category', u'TEXT', 0, None, 0), (2, u'Nominee', u'TEXT', 0, None, 0), (3, u'Won', u'INTEGER', 0, None, 0), (4, u'Movie', u'TEXT', 0, None, 0), (5, u'Character', u'TEXT', 0, None, 0)]\n"
     ]
    }
   ],
   "source": [
    "import sqlite3\n",
    "conn = sqlite3.connect('nominations.db')\n",
    "print(conn.execute(\"pragma table_info(nomination);\").fetchall())"
   ]
  }
 ],
 "metadata": {
  "anaconda-cloud": {},
  "kernelspec": {
   "display_name": "Python [conda root]",
   "language": "python",
   "name": "conda-root-py"
  },
  "language_info": {
   "codemirror_mode": {
    "name": "ipython",
    "version": 2
   },
   "file_extension": ".py",
   "mimetype": "text/x-python",
   "name": "python",
   "nbconvert_exporter": "python",
   "pygments_lexer": "ipython2",
   "version": "2.7.12"
  }
 },
 "nbformat": 4,
 "nbformat_minor": 0
}
